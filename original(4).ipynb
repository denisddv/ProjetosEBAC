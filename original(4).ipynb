{
 "cells": [
  {
   "cell_type": "markdown",
   "metadata": {},
   "source": [
    "# Regressão Logística I\n",
    "## Tarefa II\n",
    "\n",
    "Vamos trabalhar com a mesma base do exercício anterior, mas vamos aprofundar um pouco mais a nossa regressão."
   ]
  },
  {
   "cell_type": "code",
   "execution_count": 4,
   "metadata": {},
   "outputs": [],
   "source": [
    "import pandas as pd\n",
    "import seaborn as sns\n",
    "import matplotlib.pyplot as plt\n",
    "import numpy as np\n",
    "\n",
    "import statsmodels.formula.api as smf"
   ]
  },
  {
   "cell_type": "code",
   "execution_count": 5,
   "metadata": {
    "tags": []
   },
   "outputs": [
    {
     "data": {
      "text/html": [
       "<div>\n",
       "<style scoped>\n",
       "    .dataframe tbody tr th:only-of-type {\n",
       "        vertical-align: middle;\n",
       "    }\n",
       "\n",
       "    .dataframe tbody tr th {\n",
       "        vertical-align: top;\n",
       "    }\n",
       "\n",
       "    .dataframe thead th {\n",
       "        text-align: right;\n",
       "    }\n",
       "</style>\n",
       "<table border=\"1\" class=\"dataframe\">\n",
       "  <thead>\n",
       "    <tr style=\"text-align: right;\">\n",
       "      <th></th>\n",
       "      <th>age</th>\n",
       "      <th>sex</th>\n",
       "      <th>cp</th>\n",
       "      <th>trestbps</th>\n",
       "      <th>chol</th>\n",
       "      <th>fbs</th>\n",
       "      <th>restecg</th>\n",
       "      <th>thalach</th>\n",
       "      <th>exang</th>\n",
       "      <th>oldpeak</th>\n",
       "      <th>slope</th>\n",
       "      <th>ca</th>\n",
       "      <th>thal</th>\n",
       "      <th>num</th>\n",
       "      <th>flag_doente</th>\n",
       "    </tr>\n",
       "  </thead>\n",
       "  <tbody>\n",
       "    <tr>\n",
       "      <th>0</th>\n",
       "      <td>63.0</td>\n",
       "      <td>1.0</td>\n",
       "      <td>1.0</td>\n",
       "      <td>145.0</td>\n",
       "      <td>233.0</td>\n",
       "      <td>1.0</td>\n",
       "      <td>2.0</td>\n",
       "      <td>150.0</td>\n",
       "      <td>0.0</td>\n",
       "      <td>2.3</td>\n",
       "      <td>3.0</td>\n",
       "      <td>0.0</td>\n",
       "      <td>6.0</td>\n",
       "      <td>0</td>\n",
       "      <td>0</td>\n",
       "    </tr>\n",
       "    <tr>\n",
       "      <th>1</th>\n",
       "      <td>67.0</td>\n",
       "      <td>1.0</td>\n",
       "      <td>4.0</td>\n",
       "      <td>160.0</td>\n",
       "      <td>286.0</td>\n",
       "      <td>0.0</td>\n",
       "      <td>2.0</td>\n",
       "      <td>108.0</td>\n",
       "      <td>1.0</td>\n",
       "      <td>1.5</td>\n",
       "      <td>2.0</td>\n",
       "      <td>3.0</td>\n",
       "      <td>3.0</td>\n",
       "      <td>2</td>\n",
       "      <td>1</td>\n",
       "    </tr>\n",
       "    <tr>\n",
       "      <th>2</th>\n",
       "      <td>67.0</td>\n",
       "      <td>1.0</td>\n",
       "      <td>4.0</td>\n",
       "      <td>120.0</td>\n",
       "      <td>229.0</td>\n",
       "      <td>0.0</td>\n",
       "      <td>2.0</td>\n",
       "      <td>129.0</td>\n",
       "      <td>1.0</td>\n",
       "      <td>2.6</td>\n",
       "      <td>2.0</td>\n",
       "      <td>2.0</td>\n",
       "      <td>7.0</td>\n",
       "      <td>1</td>\n",
       "      <td>1</td>\n",
       "    </tr>\n",
       "    <tr>\n",
       "      <th>3</th>\n",
       "      <td>37.0</td>\n",
       "      <td>1.0</td>\n",
       "      <td>3.0</td>\n",
       "      <td>130.0</td>\n",
       "      <td>250.0</td>\n",
       "      <td>0.0</td>\n",
       "      <td>0.0</td>\n",
       "      <td>187.0</td>\n",
       "      <td>0.0</td>\n",
       "      <td>3.5</td>\n",
       "      <td>3.0</td>\n",
       "      <td>0.0</td>\n",
       "      <td>3.0</td>\n",
       "      <td>0</td>\n",
       "      <td>0</td>\n",
       "    </tr>\n",
       "    <tr>\n",
       "      <th>4</th>\n",
       "      <td>41.0</td>\n",
       "      <td>0.0</td>\n",
       "      <td>2.0</td>\n",
       "      <td>130.0</td>\n",
       "      <td>204.0</td>\n",
       "      <td>0.0</td>\n",
       "      <td>2.0</td>\n",
       "      <td>172.0</td>\n",
       "      <td>0.0</td>\n",
       "      <td>1.4</td>\n",
       "      <td>1.0</td>\n",
       "      <td>0.0</td>\n",
       "      <td>3.0</td>\n",
       "      <td>0</td>\n",
       "      <td>0</td>\n",
       "    </tr>\n",
       "  </tbody>\n",
       "</table>\n",
       "</div>"
      ],
      "text/plain": [
       "    age  sex   cp  trestbps   chol  fbs  restecg  thalach  exang  oldpeak  \\\n",
       "0  63.0  1.0  1.0     145.0  233.0  1.0      2.0    150.0    0.0      2.3   \n",
       "1  67.0  1.0  4.0     160.0  286.0  0.0      2.0    108.0    1.0      1.5   \n",
       "2  67.0  1.0  4.0     120.0  229.0  0.0      2.0    129.0    1.0      2.6   \n",
       "3  37.0  1.0  3.0     130.0  250.0  0.0      0.0    187.0    0.0      3.5   \n",
       "4  41.0  0.0  2.0     130.0  204.0  0.0      2.0    172.0    0.0      1.4   \n",
       "\n",
       "   slope   ca thal  num  flag_doente  \n",
       "0    3.0  0.0  6.0    0            0  \n",
       "1    2.0  3.0  3.0    2            1  \n",
       "2    2.0  2.0  7.0    1            1  \n",
       "3    3.0  0.0  3.0    0            0  \n",
       "4    1.0  0.0  3.0    0            0  "
      ]
     },
     "execution_count": 5,
     "metadata": {},
     "output_type": "execute_result"
    }
   ],
   "source": [
    "url = 'https://archive.ics.uci.edu/ml/machine-learning-databases/heart-disease/processed.cleveland.data'\n",
    "\n",
    "df = pd.read_csv(url, \n",
    "                 names=['age', 'sex', 'cp', 'trestbps', 'chol', 'fbs', 'restecg',\n",
    "                        'thalach', 'exang', 'oldpeak', 'slope', 'ca', 'thal', 'num'])\n",
    "df['flag_doente'] = (df['num']!=0).astype('int64')\n",
    "df.head()"
   ]
  },
  {
   "cell_type": "markdown",
   "metadata": {},
   "source": [
    "A descrição das variáveis está recortada abaixo:\n",
    "- age: idade do paciente em anos\n",
    "- sex: sexo (1 = male; 0 = female)  \n",
    "- cp: tipo de dor no peito\n",
    "  - 1: angina típica\n",
    "  - 2: angina atípica\n",
    "  - 3: dor não-angina\n",
    "  - 4: assintomático\n",
    "- trestbps: pressão sanguínea em repouso (em mm Hg na admissão ao hospital\n",
    "- chol: colesterol sérico em mg/dl\n",
    "- fbs: (açúcar no sangue em jejum > 120 mg/dl) (1 = True; 0 = False)\n",
    "- restecg: resultados eletrocardiográficos em repouso\n",
    "  - 0: normal\n",
    "  - 1: tendo anormalidade da onda ST-T (Inversões de onda T e / ou ST com elevação ou depressão de > 0.05 mV)\n",
    "  - 2: mostrando hipertrofia ventricular esquerda provável ou definitiva pelos critérios de Estes\n",
    "- thalach: frequência cardíaca máxima alcançada\n",
    "- exang: angina induzida por exercício(1 = sim; 0 = não)\n",
    "- oldpeak = Depressão de ST induzida por exercício em relação ao repouso\n",
    "- slope: Depressão de ST induzida por exercício em relação ao repouso\n",
    "  - 1: inclinação ascendente\n",
    "  - 2: estável\n",
    "  - 3: inclinação descendente\n",
    "- ca: número de vasos principais (0-3) coloridos por fluorosopia\n",
    "- thal: 3 = normal; 6 = defeito corrigido; 7 = defeito reversível\n",
    "- num: diagnóstico de doença cardíaga (status de doença angiográfica)"
   ]
  },
  {
   "cell_type": "code",
   "execution_count": 6,
   "metadata": {},
   "outputs": [
    {
     "name": "stdout",
     "output_type": "stream",
     "text": [
      "<class 'pandas.core.frame.DataFrame'>\n",
      "RangeIndex: 303 entries, 0 to 302\n",
      "Data columns (total 15 columns):\n",
      " #   Column       Non-Null Count  Dtype  \n",
      "---  ------       --------------  -----  \n",
      " 0   age          303 non-null    float64\n",
      " 1   sex          303 non-null    float64\n",
      " 2   cp           303 non-null    float64\n",
      " 3   trestbps     303 non-null    float64\n",
      " 4   chol         303 non-null    float64\n",
      " 5   fbs          303 non-null    float64\n",
      " 6   restecg      303 non-null    float64\n",
      " 7   thalach      303 non-null    float64\n",
      " 8   exang        303 non-null    float64\n",
      " 9   oldpeak      303 non-null    float64\n",
      " 10  slope        303 non-null    float64\n",
      " 11  ca           303 non-null    object \n",
      " 12  thal         303 non-null    object \n",
      " 13  num          303 non-null    int64  \n",
      " 14  flag_doente  303 non-null    int64  \n",
      "dtypes: float64(11), int64(2), object(2)\n",
      "memory usage: 35.6+ KB\n"
     ]
    }
   ],
   "source": [
    "df.info()"
   ]
  },
  {
   "cell_type": "markdown",
   "metadata": {},
   "source": [
    "1. Considere o script que monta a análise bivariada que você fez na tarefa anterior. Transforme esse script em uma função, que deve:\n",
    "- Ter como parâmetros de entrada:\n",
    "    - Um *dataframe* contendo os dados a serem avaliados\n",
    "    - Um *string* contendo o nome da variável resposta\n",
    "    - Um *string* contendo o nome da variável explicativa\n",
    "- E deve retornar um *dataframe* com os dados da bivariada. \n",
    "**Monte** a mesma bivariada pelo menos três variáveis qualitativas do *data-frame*. Qual delas parece discriminar mais o risco?"
   ]
  },
  {
   "cell_type": "code",
   "execution_count": 9,
   "metadata": {},
   "outputs": [
    {
     "name": "stdout",
     "output_type": "stream",
     "text": [
      "\n",
      "### Análise Bivariada para sex ###\n",
      "   sex  saudaveis  doentes  total      odds  odds_ratio  log_odds       woe\n",
      "0  0.0         72       25     97  0.347222    0.218881  -1.05779 -1.519228\n",
      "1  1.0         92      114    206  1.239130    0.781119   0.21441 -0.247028\n",
      "\n",
      "### Análise Bivariada para cp ###\n",
      "    cp  saudaveis  doentes  total      odds  odds_ratio  log_odds       woe\n",
      "0  1.0         16        7     23  0.437500    0.121056 -0.826679 -2.111501\n",
      "1  2.0         41        9     50  0.219512    0.060739 -1.516347 -2.801170\n",
      "2  3.0         68       18     86  0.264706    0.073244 -1.329136 -2.613958\n",
      "3  4.0         39      105    144  2.692308    0.744961  0.990399 -0.294424\n",
      "\n",
      "### Análise Bivariada para restecg ###\n",
      "   restecg  saudaveis  doentes  total      odds  odds_ratio  log_odds  \\\n",
      "0      0.0         95       56    151  0.589474    0.123685 -0.528525   \n",
      "1      1.0          1        3      4  3.000000    0.629466  1.098612   \n",
      "2      2.0         68       80    148  1.176471    0.246849  0.162519   \n",
      "\n",
      "        woe  \n",
      "0 -2.090021  \n",
      "1 -0.462883  \n",
      "2 -1.398977  \n"
     ]
    }
   ],
   "source": [
    "def bivariada(df, resposta, explicativa):\n",
    "    \"\"\"\n",
    "    Calcula a análise bivariada entre uma variável explicativa e a variável resposta.\n",
    "\n",
    "    Parâmetros:\n",
    "    df (pd.DataFrame) - DataFrame com os dados\n",
    "    resposta (str) - Nome da variável resposta binária\n",
    "    explicativa (str) - Nome da variável explicativa categórica\n",
    "\n",
    "    Retorno:\n",
    "    DataFrame com as estatísticas calculadas\n",
    "    \"\"\"\n",
    "    bivar = df.groupby(explicativa).agg(\n",
    "        saudaveis=(resposta, lambda x: (x == 0).sum()),\n",
    "        doentes=(resposta, lambda x: (x == 1).sum()),\n",
    "        total=(resposta, 'count')\n",
    "    ).reset_index()\n",
    "\n",
    "    # Cálculo das estatísticas adicionais\n",
    "    bivar['odds'] = bivar['doentes'] / bivar['saudaveis']\n",
    "    total_odds = bivar['odds'].sum()\n",
    "    bivar['odds_ratio'] = bivar['odds'] / total_odds\n",
    "    bivar['log_odds'] = np.log(bivar['odds'])\n",
    "    bivar['woe'] = np.log(bivar['odds_ratio'])\n",
    "\n",
    "    return bivar\n",
    "\n",
    "# Exemplo de uso com 3 variáveis qualitativas\n",
    "qualitativas = ['sex', 'cp', 'restecg']\n",
    "for var in qualitativas:\n",
    "    print(f\"\\n### Análise Bivariada para {var} ###\")\n",
    "    print(bivariada(df, 'flag_doente', var))\n"
   ]
  },
  {
   "cell_type": "markdown",
   "metadata": {},
   "source": [
    "2. Monte uma função semelhante para categorizar variáveis quantitativas contínuas (com muitas categorias) como ```age```.  \n",
    "    Além dos mesmos parâmetros da função anterior, defina mais um parâmetro como número de categorias que você deseja quebrar. Defina um valor '*default*' de 5 grupos para este parâmetro.  "
   ]
  },
  {
   "cell_type": "code",
   "execution_count": 10,
   "metadata": {},
   "outputs": [
    {
     "name": "stdout",
     "output_type": "stream",
     "text": [
      "\n",
      "### Análise Bivariada para Age Categorizado ###\n",
      "   grupo_age  saudaveis  doentes  total      odds  odds_ratio  log_odds  \\\n",
      "0          0         47       16     63  0.340426    0.061399 -1.077559   \n",
      "1          1         42       22     64  0.523810    0.094473 -0.646627   \n",
      "2          2         32       39     71  1.218750    0.219811  0.197826   \n",
      "3          3         13       32     45  2.461538    0.443959  0.900787   \n",
      "4          4         30       30     60  1.000000    0.180358  0.000000   \n",
      "\n",
      "        woe  \n",
      "0 -2.790370  \n",
      "1 -2.359438  \n",
      "2 -1.514985  \n",
      "3 -0.812024  \n",
      "4 -1.712811  \n"
     ]
    }
   ],
   "source": [
    "def categorizar_continua(df, resposta, explicativa, num_categorias=5):\n",
    "    \"\"\"\n",
    "    Categoriza uma variável contínua e executa a análise bivariada.\n",
    "\n",
    "    Parâmetros:\n",
    "    df (pd.DataFrame) - DataFrame com os dados\n",
    "    resposta (str) - Nome da variável resposta binária\n",
    "    explicativa (str) - Nome da variável contínua a ser categorizada\n",
    "    num_categorias (int) - Número de categorias para dividir a variável contínua (default: 5)\n",
    "\n",
    "    Retorno:\n",
    "    DataFrame com as estatísticas bivariadas para a variável categorizada\n",
    "    \"\"\"\n",
    "    df['grupo_' + explicativa] = pd.qcut(df[explicativa], num_categorias, labels=False)\n",
    "\n",
    "    return bivariada(df, resposta, 'grupo_' + explicativa)\n",
    "\n",
    "# Exemplo de uso com a variável 'age'\n",
    "print(\"\\n### Análise Bivariada para Age Categorizado ###\")\n",
    "print(categorizar_continua(df, 'flag_doente', 'age'))\n",
    "\n"
   ]
  },
  {
   "cell_type": "markdown",
   "metadata": {},
   "source": [
    "3. Construa um modelo de regressão logística com as variáveis qualitativas: ```sex + cp +  trestbps``` e com a variável quantitativa ```age```.\n",
    "\n",
    "**Interprete os parâmetros.**"
   ]
  },
  {
   "cell_type": "code",
   "execution_count": 12,
   "metadata": {},
   "outputs": [
    {
     "name": "stdout",
     "output_type": "stream",
     "text": [
      "Optimization terminated successfully.\n",
      "         Current function value: 0.510076\n",
      "         Iterations 6\n",
      "                           Logit Regression Results                           \n",
      "==============================================================================\n",
      "Dep. Variable:            flag_doente   No. Observations:                  303\n",
      "Model:                          Logit   Df Residuals:                      298\n",
      "Method:                           MLE   Df Model:                            4\n",
      "Date:                Thu, 30 Jan 2025   Pseudo R-squ.:                  0.2605\n",
      "Time:                        11:53:06   Log-Likelihood:                -154.55\n",
      "converged:                       True   LL-Null:                       -208.99\n",
      "Covariance Type:            nonrobust   LLR p-value:                 1.264e-22\n",
      "==============================================================================\n",
      "                 coef    std err          z      P>|z|      [0.025      0.975]\n",
      "------------------------------------------------------------------------------\n",
      "const        -11.1167      1.608     -6.915      0.000     -14.267      -7.966\n",
      "sex            1.8021      0.331      5.444      0.000       1.153       2.451\n",
      "cp             1.1403      0.169      6.739      0.000       0.809       1.472\n",
      "trestbps       0.0214      0.008      2.600      0.009       0.005       0.037\n",
      "age            0.0582      0.017      3.348      0.001       0.024       0.092\n",
      "==============================================================================\n"
     ]
    }
   ],
   "source": [
    "import statsmodels.api as sm\n",
    "\n",
    "# Definir variáveis independentes e resposta\n",
    "variaveis = ['sex', 'cp', 'trestbps', 'age']\n",
    "X = df[variaveis]\n",
    "X = sm.add_constant(X)  # Adicionar constante para o modelo\n",
    "y = df['flag_doente']\n",
    "\n",
    "# Ajustar o modelo de regressão logística\n",
    "modelo = sm.Logit(y, X).fit()\n",
    "\n",
    "# Exibir os parâmetros do modelo\n",
    "print(modelo.summary())\n",
    "\n"
   ]
  },
  {
   "cell_type": "markdown",
   "metadata": {},
   "source": [
    "4. Avalie o seu modelo quanto a **calibragem**:\n",
    "- Calcule a probabilidade de evento predita segundo o seu modelo\n",
    "- Categorize essa probabilidade em G=5 grupos\n",
    "- Calcule a probabilidade de evento predita média por grupo\n",
    "- Calcule a taxa de eventos (média da variável indicadora de eventos) por grupo\n",
    "- Compare graficamente o valor eperado versus observado para a taxa de maus por grupo"
   ]
  },
  {
   "cell_type": "code",
   "execution_count": 13,
   "metadata": {},
   "outputs": [
    {
     "name": "stdout",
     "output_type": "stream",
     "text": [
      "\n",
      "### Avaliação de Calibração ###\n",
      "   grupo_prob  prob_media  taxa_evento\n",
      "0           0    0.076255     0.098361\n",
      "1           1    0.249060     0.183333\n",
      "2           2    0.457982     0.491803\n",
      "3           3    0.673059     0.683333\n",
      "4           4    0.837449     0.836066\n"
     ]
    },
    {
     "data": {
      "image/png": "[encoded data removed]",
      "text/plain": [
       "<Figure size 800x500 with 1 Axes>"
      ]
     },
     "metadata": {},
     "output_type": "display_data"
    }
   ],
   "source": [
    "# Calcular probabilidades preditas\n",
    "df['prob_predita'] = modelo.predict(X)\n",
    "\n",
    "# Categorizar as probabilidades preditas em 5 grupos\n",
    "df['grupo_prob'] = pd.qcut(df['prob_predita'], 5, labels=False)\n",
    "\n",
    "# Calcular a média das probabilidades preditas por grupo\n",
    "calibracao = df.groupby('grupo_prob').agg(\n",
    "    prob_media=('prob_predita', 'mean'),\n",
    "    taxa_evento=('flag_doente', 'mean')\n",
    ").reset_index()\n",
    "\n",
    "# Exibir tabela de calibração\n",
    "print(\"\\n### Avaliação de Calibração ###\")\n",
    "print(calibracao)\n",
    "\n",
    "# Visualização gráfica da calibração\n",
    "import matplotlib.pyplot as plt\n",
    "\n",
    "plt.figure(figsize=(8, 5))\n",
    "plt.plot(calibracao['prob_media'], calibracao['taxa_evento'], marker='o')\n",
    "plt.xlabel(\"Probabilidade Média Prevista\")\n",
    "plt.ylabel(\"Taxa de Eventos Observada\")\n",
    "plt.title(\"Calibração do Modelo\")\n",
    "plt.grid()\n",
    "plt.show()\n"
   ]
  },
  {
   "cell_type": "markdown",
   "metadata": {},
   "source": [
    "5. Avalie o seu modelo quanto a discriminação calculando acurácia, GINI e KS."
   ]
  },
  {
   "cell_type": "code",
   "execution_count": 14,
   "metadata": {},
   "outputs": [
    {
     "name": "stdout",
     "output_type": "stream",
     "text": [
      "\n",
      "### Avaliação do Modelo ###\n",
      "Acurácia: 0.7789\n",
      "GINI: 0.6622\n",
      "KS: 0.5840\n"
     ]
    }
   ],
   "source": [
    "from sklearn.metrics import roc_auc_score, accuracy_score\n",
    "\n",
    "# Calcular acurácia\n",
    "limiar = 0.5\n",
    "df['classe_predita'] = (df['prob_predita'] >= limiar).astype(int)\n",
    "acuracia = accuracy_score(df['flag_doente'], df['classe_predita'])\n",
    "\n",
    "# Calcular GINI\n",
    "roc_auc = roc_auc_score(df['flag_doente'], df['prob_predita'])\n",
    "gini = 2 * roc_auc - 1\n",
    "\n",
    "# Calcular KS (Kolmogorov-Smirnov)\n",
    "from scipy.stats import ks_2samp\n",
    "ks = ks_2samp(df.loc[df['flag_doente'] == 1, 'prob_predita'], \n",
    "              df.loc[df['flag_doente'] == 0, 'prob_predita']).statistic\n",
    "\n",
    "# Exibir métricas\n",
    "print(f\"\\n### Avaliação do Modelo ###\")\n",
    "print(f\"Acurácia: {acuracia:.4f}\")\n",
    "print(f\"GINI: {gini:.4f}\")\n",
    "print(f\"KS: {ks:.4f}\")\n"
   ]
  },
  {
   "cell_type": "markdown",
   "metadata": {},
   "source": [
    "6. tente melhorar o modelo obtido, por exemplo inserindo ou removendo variáveis.  \n",
    "    Avalie as características do seu modelo (calibragem e acurácia)."
   ]
  },
  {
   "cell_type": "code",
   "execution_count": 15,
   "metadata": {},
   "outputs": [
    {
     "name": "stdout",
     "output_type": "stream",
     "text": [
      "Optimization terminated successfully.\n",
      "         Current function value: 0.463802\n",
      "         Iterations 7\n",
      "                           Logit Regression Results                           \n",
      "==============================================================================\n",
      "Dep. Variable:            flag_doente   No. Observations:                  303\n",
      "Model:                          Logit   Df Residuals:                      296\n",
      "Method:                           MLE   Df Model:                            6\n",
      "Date:                Thu, 30 Jan 2025   Pseudo R-squ.:                  0.3276\n",
      "Time:                        11:53:29   Log-Likelihood:                -140.53\n",
      "converged:                       True   LL-Null:                       -208.99\n",
      "Covariance Type:            nonrobust   LLR p-value:                 4.479e-27\n",
      "==============================================================================\n",
      "                 coef    std err          z      P>|z|      [0.025      0.975]\n",
      "------------------------------------------------------------------------------\n",
      "const         -5.2971      2.184     -2.425      0.015      -9.577      -1.017\n",
      "sex            2.0642      0.370      5.580      0.000       1.339       2.789\n",
      "cp             0.9860      0.176      5.614      0.000       0.642       1.330\n",
      "trestbps       0.0269      0.009      3.006      0.003       0.009       0.044\n",
      "age            0.0210      0.019      1.081      0.280      -0.017       0.059\n",
      "chol           0.0068      0.003      2.335      0.020       0.001       0.013\n",
      "thalach       -0.0393      0.008     -4.689      0.000      -0.056      -0.023\n",
      "==============================================================================\n",
      "\n",
      "### Avaliação do Novo Modelo ###\n",
      "Acurácia: 0.7954\n",
      "GINI: 0.7326\n",
      "KS: 0.5891\n"
     ]
    }
   ],
   "source": [
    "# Testar outro modelo com mais variáveis\n",
    "variaveis_novas = ['sex', 'cp', 'trestbps', 'age', 'chol', 'thalach']\n",
    "X_novo = df[variaveis_novas]\n",
    "X_novo = sm.add_constant(X_novo)\n",
    "\n",
    "# Ajustar novo modelo\n",
    "modelo_novo = sm.Logit(y, X_novo).fit()\n",
    "\n",
    "# Exibir sumário do novo modelo\n",
    "print(modelo_novo.summary())\n",
    "\n",
    "# Recalcular métricas para comparar melhorias\n",
    "df['prob_predita_nova'] = modelo_novo.predict(X_novo)\n",
    "acuracia_nova = accuracy_score(df['flag_doente'], (df['prob_predita_nova'] >= limiar).astype(int))\n",
    "roc_auc_novo = roc_auc_score(df['flag_doente'], df['prob_predita_nova'])\n",
    "gini_novo = 2 * roc_auc_novo - 1\n",
    "ks_novo = ks_2samp(df.loc[df['flag_doente'] == 1, 'prob_predita_nova'], \n",
    "                   df.loc[df['flag_doente'] == 0, 'prob_predita_nova']).statistic\n",
    "\n",
    "# Exibir métricas do novo modelo\n",
    "print(f\"\\n### Avaliação do Novo Modelo ###\")\n",
    "print(f\"Acurácia: {acuracia_nova:.4f}\")\n",
    "print(f\"GINI: {gini_novo:.4f}\")\n",
    "print(f\"KS: {ks_novo:.4f}\")\n"
   ]
  }
 ],
 "metadata": {
  "kernelspec": {
   "display_name": "Python 3",
   "language": "python",
   "name": "python3"
  },
  "language_info": {
   "codemirror_mode": {
    "name": "ipython",
    "version": 3
   },
   "file_extension": ".py",
   "mimetype": "text/x-python",
   "name": "python",
   "nbconvert_exporter": "python",
   "pygments_lexer": "ipython3",
   "version": "3.11.5"
  }
 },
 "nbformat": 4,
 "nbformat_minor": 4
}
