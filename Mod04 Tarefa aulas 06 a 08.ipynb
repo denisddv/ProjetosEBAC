{
 "cells": [
  {
   "cell_type": "markdown",
   "metadata": {},
   "source": [
    "# Tarefa 03\n",
    "\n",
    "- Leia os enunciados com atenção\n",
    "- Saiba que pode haver mais de uma resposta correta\n",
    "- Insira novas células de código sempre que achar necessário\n",
    "- Em caso de dúvidas, procure os Tutores\n",
    "- Divirta-se :)"
   ]
  },
  {
   "cell_type": "code",
   "execution_count": 2,
   "metadata": {
    "tags": []
   },
   "outputs": [],
   "source": [
    "import pandas as pd\n",
    "import requests"
   ]
  },
  {
   "cell_type": "markdown",
   "metadata": {},
   "source": [
    "####  1) Lendo de APIs\n",
    "Vimos em aula como carregar dados públicos do governo através de um API (*Application Programming Interface*). No exemplo de aula, baixamos os dados de pedidos de verificação de limites (PVL) realizados por estados, e selecionamos apenas aqueles referentes ao estado de São Paulo.\n",
    "\n",
    "1. Repita os mesmos passos feitos em aula, mas selecione os PVLs realizados por municípios no estado do Rio de Janeiro.\n",
    "2. Quais são os três *status* das solicitações mais frequentes na base? Quais são suas frequências?\n",
    "3. Construa uma nova variável que contenha o ano do **status**. Observe que ```data_status``` vem como tipo *object* no **DataFrame**. Dica: você pode usar o método ```.str``` para transformar o tipo da variável em string, em seguida um método como [**slice()**](https://pandas.pydata.org/docs/reference/api/pandas.Series.str.slice.html) ou [**split()**](https://pandas.pydata.org/pandas-docs/stable/reference/api/pandas.Series.str.split.html).\n",
    "4. Indique a frequência de cada ano do campo construído no item (3)."
   ]
  },
  {
   "cell_type": "code",
   "execution_count": 14,
   "metadata": {
    "tags": []
   },
   "outputs": [],
   "source": [
    "url = \"https://apidatalake.tesouro.gov.br/ords/sadipem/tt/pvl\"\n",
    "response = requests.get(url)\n",
    "data = response.json()\n",
    "df = pd.json_normalize(data['items'])\n",
    "df_rj = df[df['uf'] == 'RJ']\n",
    "\n"
   ]
  },
  {
   "cell_type": "code",
   "execution_count": 15,
   "metadata": {
    "tags": []
   },
   "outputs": [
    {
     "name": "stdout",
     "output_type": "stream",
     "text": [
      "\n",
      "Três status mais frequentes e suas frequências:\n",
      "status\n",
      "Deferido        24\n",
      "Arquivado       11\n",
      "Regularizado    10\n",
      "Name: count, dtype: int64\n"
     ]
    }
   ],
   "source": [
    "status_frequentes = df_rj['status'].value_counts().head(3)\n",
    "print(\"\\nTrês status mais frequentes e suas frequências:\")\n",
    "print(status_frequentes)"
   ]
  },
  {
   "cell_type": "code",
   "execution_count": 17,
   "metadata": {
    "tags": []
   },
   "outputs": [],
   "source": [
    "df_rj.loc[:, 'ano_status'] = df_rj['data_status'].str.slice(0, 4)"
   ]
  },
  {
   "cell_type": "code",
   "execution_count": 18,
   "metadata": {
    "tags": []
   },
   "outputs": [
    {
     "name": "stdout",
     "output_type": "stream",
     "text": [
      "\n",
      "Frequência de cada ano do campo construído:\n",
      "ano_status\n",
      "13/0    4\n",
      "18/0    4\n",
      "15/0    4\n",
      "26/0    3\n",
      "29/0    3\n",
      "06/0    3\n",
      "07/0    3\n",
      "02/0    3\n",
      "06/1    2\n",
      "30/1    2\n",
      "23/1    2\n",
      "01/0    2\n",
      "21/0    2\n",
      "20/0    2\n",
      "12/0    2\n",
      "11/0    2\n",
      "03/0    1\n",
      "31/0    1\n",
      "12/1    1\n",
      "08/1    1\n",
      "09/0    1\n",
      "09/1    1\n",
      "23/0    1\n",
      "13/1    1\n",
      "11/1    1\n",
      "05/0    1\n",
      "17/1    1\n",
      "04/1    1\n",
      "27/0    1\n",
      "21/1    1\n",
      "14/0    1\n",
      "10/0    1\n",
      "20/1    1\n",
      "28/0    1\n",
      "04/0    1\n",
      "22/0    1\n",
      "26/1    1\n",
      "Name: count, dtype: int64\n"
     ]
    }
   ],
   "source": [
    "frequencia_ano_status = df_rj['ano_status'].value_counts()\n",
    "print(\"\\nFrequência de cada ano do campo construído:\")\n",
    "print(frequencia_ano_status)\n"
   ]
  },
  {
   "cell_type": "markdown",
   "metadata": {},
   "source": [
    "####  2) Melhorando a interação com o API\n",
    "Observe dois URLs de consultas diferentes, por exemplo o URL utilizado em aula, e o URL feito no exercício anterior. Compare-os e observe as diferenças.\n",
    "\n",
    "1. Faça uma função em Python que recebe como argumento o UF da consulta e o tipo de interessado (```'Estado'```ou ```Município```), e que devolve os dados da consulta no formato *DataFrame*.\n",
    "2. Quantas solicitações para o Estado podem ser consultadas para Minas Gerais com *status* em 'Arquivado por decurso de prazo' estão registradas?\n",
    "3. Qual é o município da Bahia com mais solicitações deferidas?\n",
    "4. Salve um arquivo .csv com os dados de solicitações da Bahia, com interessado = 'Estado'"
   ]
  },
  {
   "cell_type": "code",
   "execution_count": 20,
   "metadata": {
    "tags": []
   },
   "outputs": [],
   "source": [
    "def consultar_api(uf, tipo_interessado):\n",
    "    url = \"https://apidatalake.tesouro.gov.br/ords/sadipem/tt/pvl\"\n",
    "    params = {\n",
    "        'uf': uf,\n",
    "        'interessado': tipo_interessado,\n",
    "    }\n",
    "\n",
    "    response = requests.get(url, params=params)\n",
    "\n",
    "    if response.status_code == 200:\n",
    "        data = response.json()\n",
    "        df = pd.json_normalize(data['items'])\n",
    "        return df\n",
    "    else:\n",
    "        print(\"Erro na requisição. Código de status:\", response.status_code)\n",
    "        return None\n"
   ]
  },
  {
   "cell_type": "code",
   "execution_count": 22,
   "metadata": {
    "tags": []
   },
   "outputs": [
    {
     "name": "stdout",
     "output_type": "stream",
     "text": [
      "\n",
      "Quantidade de solicitações para Minas Gerais com status 'Arquivado por decurso de prazo': 302\n"
     ]
    }
   ],
   "source": [
    "# 2) Seu código aqui\n",
    "df_mg_arquivado = consultar_api('MG', 'Estado')\n",
    "solicitacoes_mg_arquivado = df_mg_arquivado[df_mg_arquivado['status'] == 'Arquivado por decurso de prazo'].shape[0]\n",
    "print(\"\\nQuantidade de solicitações para Minas Gerais com status 'Arquivado por decurso de prazo':\", solicitacoes_mg_arquivado)"
   ]
  },
  {
   "cell_type": "code",
   "execution_count": 39,
   "metadata": {
    "tags": []
   },
   "outputs": [
    {
     "name": "stdout",
     "output_type": "stream",
     "text": [
      "\n",
      "Interessado (Município) na Bahia com mais solicitações deferidas: Bahia\n"
     ]
    }
   ],
   "source": [
    "# 3) Seu código aqui\n",
    "df_bahia = consultar_api('BA', 'Município')\n",
    "\n",
    "\n",
    "if 'interessado' in df_bahia.columns:\n",
    "    municipio_mais_solicitacoes_deferidas = df_bahia[df_bahia['status'] == 'Deferido']['interessado'].value_counts().idxmax()\n",
    "    print(\"\\nInteressado (Município) na Bahia com mais solicitações deferidas:\", municipio_mais_solicitacoes_deferidas)\n",
    "\n"
   ]
  },
  {
   "cell_type": "code",
   "execution_count": 40,
   "metadata": {
    "tags": []
   },
   "outputs": [
    {
     "name": "stdout",
     "output_type": "stream",
     "text": [
      "\n",
      "Arquivo 'solicitacoes_bahia_estado.csv' salvo com sucesso.\n"
     ]
    }
   ],
   "source": [
    "# 4) Seu código aqui\n",
    "df_bahia_estado = consultar_api('BA', 'Estado')\n",
    "df_bahia_estado.to_csv('solicitacoes_bahia_estado.csv', index=False)\n",
    "print(\"\\nArquivo 'solicitacoes_bahia_estado.csv' salvo com sucesso.\")"
   ]
  },
  {
   "cell_type": "code",
   "execution_count": null,
   "metadata": {},
   "outputs": [],
   "source": []
  }
 ],
 "metadata": {
  "kernelspec": {
   "display_name": "Python 3 (ipykernel)",
   "language": "python",
   "name": "python3"
  },
  "language_info": {
   "codemirror_mode": {
    "name": "ipython",
    "version": 3
   },
   "file_extension": ".py",
   "mimetype": "text/x-python",
   "name": "python",
   "nbconvert_exporter": "python",
   "pygments_lexer": "ipython3",
   "version": "3.11.5"
  }
 },
 "nbformat": 4,
 "nbformat_minor": 4
}
