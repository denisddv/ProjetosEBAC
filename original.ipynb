{
 "cells": [
  {
   "cell_type": "markdown",
   "metadata": {},
   "source": [
    "# Regressão Logística I\n",
    "## Tarefa I\n",
    "\n",
    "Neste exercício vamos trabalhar com a base \"Heart Disease Data Set\" disponível no site do [UCI](https://archive.ics.uci.edu/ml/datasets/heart+disease).\n",
    "\n",
    "Temos 303 indivíduos e vamos utilizar 13 variáveis disponíveis para prever a presença de doença cardíaca na variável ```num```(a 14$^a$ variável).\n",
    "\n",
    "A descrição das variáveis está recortada abaixo:\n",
    "- age: idade do paciente em anos\n",
    "- sex: sexo (1 = male; 0 = female)  \n",
    "- cp: tipo de dor no peito\n",
    "  - 1: angina típica\n",
    "  - 2: angina atípica\n",
    "  - 3: dor não-angina\n",
    "  - 4: assintomático\n",
    "- trestbps: pressão sanguínea em repouso (em mm Hg na admissão ao hospital\n",
    "- chol: colesterol sérico em mg/dl\n",
    "- fbs: (açúcar no sangue em jejum > 120 mg/dl) (1 = True; 0 = False)\n",
    "- restecg: resultados eletrocardiográficos em repouso\n",
    "  - 0: normal\n",
    "  - 1: tendo anormalidade da onda ST-T (Inversões de onda T e / ou ST com elevação ou depressão de > 0.05 mV)\n",
    "  - 2: mostrando hipertrofia ventricular esquerda provável ou definitiva pelos critérios de Estes\n",
    "- thalach: frequência cardíaca máxima alcançada\n",
    "- exang: angina induzida por exercício(1 = sim; 0 = não)\n",
    "- oldpeak = Depressão de ST induzida por exercício em relação ao repouso\n",
    "- slope: Depressão de ST induzida por exercício em relação ao repouso\n",
    "  - 1: inclinação ascendente\n",
    "  - 2: estável\n",
    "  - 3: inclinação descendente\n",
    "- ca: número de vasos principais (0-3) coloridos por fluorosopia\n",
    "- thal: 3 = normal; 6 = defeito corrigido; 7 = defeito reversível\n",
    "- num: diagnóstico de doença cardíaga (status de doença angiográfica)"
   ]
  },
  {
   "cell_type": "code",
   "execution_count": 6,
   "metadata": {},
   "outputs": [],
   "source": [
    "import pandas as pd\n",
    "import seaborn as sns\n",
    "import matplotlib.pyplot as plt\n",
    "import numpy as np\n",
    "\n",
    "import statsmodels.formula.api as smf"
   ]
  },
  {
   "cell_type": "code",
   "execution_count": 2,
   "metadata": {
    "tags": []
   },
   "outputs": [
    {
     "data": {
      "text/html": [
       "<div>\n",
       "<style scoped>\n",
       "    .dataframe tbody tr th:only-of-type {\n",
       "        vertical-align: middle;\n",
       "    }\n",
       "\n",
       "    .dataframe tbody tr th {\n",
       "        vertical-align: top;\n",
       "    }\n",
       "\n",
       "    .dataframe thead th {\n",
       "        text-align: right;\n",
       "    }\n",
       "</style>\n",
       "<table border=\"1\" class=\"dataframe\">\n",
       "  <thead>\n",
       "    <tr style=\"text-align: right;\">\n",
       "      <th></th>\n",
       "      <th>age</th>\n",
       "      <th>sex</th>\n",
       "      <th>cp</th>\n",
       "      <th>trestbps</th>\n",
       "      <th>chol</th>\n",
       "      <th>fbs</th>\n",
       "      <th>restecg</th>\n",
       "      <th>thalach</th>\n",
       "      <th>exang</th>\n",
       "      <th>oldpeak</th>\n",
       "      <th>slope</th>\n",
       "      <th>ca</th>\n",
       "      <th>thal</th>\n",
       "      <th>num</th>\n",
       "    </tr>\n",
       "  </thead>\n",
       "  <tbody>\n",
       "    <tr>\n",
       "      <th>0</th>\n",
       "      <td>63.0</td>\n",
       "      <td>1.0</td>\n",
       "      <td>1.0</td>\n",
       "      <td>145.0</td>\n",
       "      <td>233.0</td>\n",
       "      <td>1.0</td>\n",
       "      <td>2.0</td>\n",
       "      <td>150.0</td>\n",
       "      <td>0.0</td>\n",
       "      <td>2.3</td>\n",
       "      <td>3.0</td>\n",
       "      <td>0.0</td>\n",
       "      <td>6.0</td>\n",
       "      <td>0</td>\n",
       "    </tr>\n",
       "    <tr>\n",
       "      <th>1</th>\n",
       "      <td>67.0</td>\n",
       "      <td>1.0</td>\n",
       "      <td>4.0</td>\n",
       "      <td>160.0</td>\n",
       "      <td>286.0</td>\n",
       "      <td>0.0</td>\n",
       "      <td>2.0</td>\n",
       "      <td>108.0</td>\n",
       "      <td>1.0</td>\n",
       "      <td>1.5</td>\n",
       "      <td>2.0</td>\n",
       "      <td>3.0</td>\n",
       "      <td>3.0</td>\n",
       "      <td>2</td>\n",
       "    </tr>\n",
       "    <tr>\n",
       "      <th>2</th>\n",
       "      <td>67.0</td>\n",
       "      <td>1.0</td>\n",
       "      <td>4.0</td>\n",
       "      <td>120.0</td>\n",
       "      <td>229.0</td>\n",
       "      <td>0.0</td>\n",
       "      <td>2.0</td>\n",
       "      <td>129.0</td>\n",
       "      <td>1.0</td>\n",
       "      <td>2.6</td>\n",
       "      <td>2.0</td>\n",
       "      <td>2.0</td>\n",
       "      <td>7.0</td>\n",
       "      <td>1</td>\n",
       "    </tr>\n",
       "    <tr>\n",
       "      <th>3</th>\n",
       "      <td>37.0</td>\n",
       "      <td>1.0</td>\n",
       "      <td>3.0</td>\n",
       "      <td>130.0</td>\n",
       "      <td>250.0</td>\n",
       "      <td>0.0</td>\n",
       "      <td>0.0</td>\n",
       "      <td>187.0</td>\n",
       "      <td>0.0</td>\n",
       "      <td>3.5</td>\n",
       "      <td>3.0</td>\n",
       "      <td>0.0</td>\n",
       "      <td>3.0</td>\n",
       "      <td>0</td>\n",
       "    </tr>\n",
       "    <tr>\n",
       "      <th>4</th>\n",
       "      <td>41.0</td>\n",
       "      <td>0.0</td>\n",
       "      <td>2.0</td>\n",
       "      <td>130.0</td>\n",
       "      <td>204.0</td>\n",
       "      <td>0.0</td>\n",
       "      <td>2.0</td>\n",
       "      <td>172.0</td>\n",
       "      <td>0.0</td>\n",
       "      <td>1.4</td>\n",
       "      <td>1.0</td>\n",
       "      <td>0.0</td>\n",
       "      <td>3.0</td>\n",
       "      <td>0</td>\n",
       "    </tr>\n",
       "  </tbody>\n",
       "</table>\n",
       "</div>"
      ],
      "text/plain": [
       "    age  sex   cp  trestbps   chol  fbs  restecg  thalach  exang  oldpeak  \\\n",
       "0  63.0  1.0  1.0     145.0  233.0  1.0      2.0    150.0    0.0      2.3   \n",
       "1  67.0  1.0  4.0     160.0  286.0  0.0      2.0    108.0    1.0      1.5   \n",
       "2  67.0  1.0  4.0     120.0  229.0  0.0      2.0    129.0    1.0      2.6   \n",
       "3  37.0  1.0  3.0     130.0  250.0  0.0      0.0    187.0    0.0      3.5   \n",
       "4  41.0  0.0  2.0     130.0  204.0  0.0      2.0    172.0    0.0      1.4   \n",
       "\n",
       "   slope   ca thal  num  \n",
       "0    3.0  0.0  6.0    0  \n",
       "1    2.0  3.0  3.0    2  \n",
       "2    2.0  2.0  7.0    1  \n",
       "3    3.0  0.0  3.0    0  \n",
       "4    1.0  0.0  3.0    0  "
      ]
     },
     "execution_count": 2,
     "metadata": {},
     "output_type": "execute_result"
    }
   ],
   "source": [
    "url = 'https://archive.ics.uci.edu/ml/machine-learning-databases/heart-disease/processed.cleveland.data'\n",
    "\n",
    "df = pd.read_csv(url, \n",
    "                 names=['age', 'sex', 'cp', 'trestbps', 'chol', 'fbs', 'restecg',\n",
    "                        'thalach', 'exang', 'oldpeak', 'slope', 'ca', 'thal', 'num'])\n",
    "df.head()"
   ]
  },
  {
   "cell_type": "code",
   "execution_count": 11,
   "metadata": {
    "collapsed": true,
    "jupyter": {
     "outputs_hidden": true
    },
    "tags": []
   },
   "outputs": [],
   "source": [
    "df['flag_doente'] = (df['num'] != 0).astype('int64')\n",
    "df\n",
    "\n",
    "\n",
    "# Criar variável binária para doença cardíaca (1 se num > 0, senão 0)\n",
    "df['flag_doente'] = (df['num'] != 0).astype(int)"
   ]
  },
  {
   "cell_type": "markdown",
   "metadata": {},
   "source": [
    "1. Monte uma bivariada para a variável ```sex``` com as seguintes estatísticas:\n",
    "\n",
    "- Número de *saudáveis*\n",
    "- Número de *doentes*\n",
    "- Total\n",
    "- Quantidade média de doentes\n",
    "- *Odds*\n",
    "- *Odds ratio* (Use o total como referência)\n",
    "- Logito (LOG(*Odds*))\n",
    "- O LOG do *Odds ratio* (com o total como referência) é chamado de *Weight of Evidence* (WOE). Calcule-o."
   ]
  },
  {
   "cell_type": "code",
   "execution_count": 7,
   "metadata": {},
   "outputs": [
    {
     "name": "stdout",
     "output_type": "stream",
     "text": [
      "\n",
      "### Tabela Bivariada por Sexo ###\n",
      "   sex  saudaveis  doentes  total      odds  odds_ratio  log_odds       woe\n",
      "0  0.0         72       25     97  0.347222    0.218881  -1.05779 -1.519228\n",
      "1  1.0         92      114    206  1.239130    0.781119   0.21441 -0.247028\n"
     ]
    }
   ],
   "source": [
    "# Criar tabela bivariada para a variável sex\n",
    "bivar_sex = df.groupby('sex')['flag_doente'].agg(\n",
    "    saudaveis=lambda x: (x == 0).sum(),\n",
    "    doentes=lambda x: (x == 1).sum(),\n",
    "    total='count'\n",
    ").reset_index()\n",
    "\n",
    "# Calcular Odds, Odds Ratio, Logito e Weight of Evidence (WOE)\n",
    "bivar_sex['odds'] = bivar_sex['doentes'] / bivar_sex['saudaveis']\n",
    "total_odds = bivar_sex['odds'].sum()\n",
    "bivar_sex['odds_ratio'] = bivar_sex['odds'] / total_odds\n",
    "bivar_sex['log_odds'] = np.log(bivar_sex['odds'])\n",
    "bivar_sex['woe'] = np.log(bivar_sex['odds_ratio'])\n",
    "\n",
    "# Exibir a tabela no console\n",
    "print(\"\\n### Tabela Bivariada por Sexo ###\")\n",
    "print(bivar_sex)"
   ]
  },
  {
   "cell_type": "markdown",
   "metadata": {},
   "source": [
    "2. Monte uma bivariada para a variável ```age``` com as seguintes estatísticas:\n",
    "- Categorize a variável em 5 grupos\n",
    "- Calcule as mesmas quantidades calculadas no execício anterior\n",
    "- Calcule também o valor médio da variável ```age```"
   ]
  },
  {
   "cell_type": "code",
   "execution_count": 15,
   "metadata": {},
   "outputs": [
    {
     "name": "stdout",
     "output_type": "stream",
     "text": [
      "\n",
      "### Tabela Bivariada por Faixa Etária ###\n",
      "  age_group  saudaveis  doentes  total  media_idade      odds  odds_ratio  \\\n",
      "0         1         47       16     63    41.222222  0.340426    0.061399   \n",
      "1         2         42       22     64    50.000000  0.523810    0.094473   \n",
      "2         3         32       39     71    56.211268  1.218750    0.219811   \n",
      "3         4         13       32     45    60.355556  2.461538    0.443959   \n",
      "4         5         30       30     60    66.516667  1.000000    0.180358   \n",
      "\n",
      "   log_odds       woe  \n",
      "0 -1.077559 -2.790370  \n",
      "1 -0.646627 -2.359438  \n",
      "2  0.197826 -1.514985  \n",
      "3  0.900787 -0.812024  \n",
      "4  0.000000 -1.712811  \n"
     ]
    }
   ],
   "source": [
    "# Categorizar a variável age em 5 grupos\n",
    "df['age_group'] = pd.qcut(df['age'], 5, labels=[1, 2, 3, 4, 5])\n",
    "\n",
    "# Criar tabela bivariada para a variável age_group\n",
    "bivar_age = df.groupby('age_group').agg(\n",
    "    saudaveis=('flag_doente', lambda x: (x == 0).sum()),\n",
    "    doentes=('flag_doente', lambda x: (x == 1).sum()),\n",
    "    total=('flag_doente', 'count'),\n",
    "    media_idade=('age', 'mean')\n",
    ").reset_index()\n",
    "\n",
    "# Calcular Odds, Odds Ratio, Logito e Weight of Evidence (WOE)\n",
    "bivar_age['odds'] = bivar_age['doentes'] / bivar_age['saudaveis']\n",
    "total_odds_age = bivar_age['odds'].sum()\n",
    "bivar_age['odds_ratio'] = bivar_age['odds'] / total_odds_age\n",
    "bivar_age['log_odds'] = np.log(bivar_age['odds'])\n",
    "bivar_age['woe'] = np.log(bivar_age['odds_ratio'])\n",
    "\n",
    "# Exibir a tabela no console\n",
    "print(\"\\n### Tabela Bivariada por Faixa Etária ###\")\n",
    "print(bivar_age)"
   ]
  },
  {
   "cell_type": "markdown",
   "metadata": {},
   "source": [
    "3. Visualize a informação da bivariada construída acima através de um gráfico da sua escolha."
   ]
  },
  {
   "cell_type": "code",
   "execution_count": 16,
   "metadata": {},
   "outputs": [
    {
     "data": {
      "image/png": "[encoded data removed]",
      "text/plain": [
       "<Figure size 1000x500 with 1 Axes>"
      ]
     },
     "metadata": {},
     "output_type": "display_data"
    },
    {
     "data": {
      "image/png": "[encoded data removed]",
      "text/plain": [
       "<Figure size 1000x500 with 1 Axes>"
      ]
     },
     "metadata": {},
     "output_type": "display_data"
    }
   ],
   "source": [
    "import matplotlib.pyplot as plt\n",
    "import seaborn as sns\n",
    "\n",
    "# Gráfico da bivariada para sexo\n",
    "plt.figure(figsize=(10, 5))\n",
    "sns.barplot(x=bivar_sex['sex'], y=bivar_sex['woe'])\n",
    "plt.title(\"Weight of Evidence (WOE) por Sexo\")\n",
    "plt.xlabel(\"Sexo (0 = Feminino, 1 = Masculino)\")\n",
    "plt.ylabel(\"WOE\")\n",
    "plt.show()\n",
    "\n",
    "# Gráfico da bivariada para faixa etária\n",
    "plt.figure(figsize=(10, 5))\n",
    "sns.barplot(x=bivar_age['age_group'].astype(str), y=bivar_age['woe'])\n",
    "plt.title(\"Weight of Evidence (WOE) por Faixa Etária\")\n",
    "plt.xlabel(\"Grupo Etário\")\n",
    "plt.ylabel(\"WOE\")\n",
    "plt.show()"
   ]
  }
 ],
 "metadata": {
  "kernelspec": {
   "display_name": "Python 3",
   "language": "python",
   "name": "python3"
  },
  "language_info": {
   "codemirror_mode": {
    "name": "ipython",
    "version": 3
   },
   "file_extension": ".py",
   "mimetype": "text/x-python",
   "name": "python",
   "nbconvert_exporter": "python",
   "pygments_lexer": "ipython3",
   "version": "3.11.5"
  }
 },
 "nbformat": 4,
 "nbformat_minor": 4
}
